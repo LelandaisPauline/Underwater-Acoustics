{
 "cells": [
  {
   "cell_type": "code",
   "execution_count": 3258,
   "metadata": {
    "collapsed": true
   },
   "outputs": [],
   "source": [
    "#//author : Pauline Lelandais in the context of implementing theoretical results from my undergraduate research project\n",
    "import numpy as np       #library imports\n",
    "import random as rn\n",
    "import math"
   ]
  },
  {
   "cell_type": "markdown",
   "metadata": {},
   "source": [
    "We try to model the modal ray arrival pattern of underwater waves propagating from a sound source. It is assumed we know its source excitation function and the frequency of the signal.\n",
    "We aim at first producing reference data to compile a library, then we simulate experimental data and try to match it to one of the known profile. This aims at determining the average speed of sound in the environmnet where the experiment took place. As this value changes with temperature, this would be useful for example in monitoring the effect of climate change under water."
   ]
  },
  {
   "cell_type": "code",
   "execution_count": 3259,
   "metadata": {
    "collapsed": false
   },
   "outputs": [],
   "source": [
    "def initialise_clist (cn): #initialise sound speed values\n",
    "    clist =[0 for i in range(cn)]\n",
    "    for i in range (cn):\n",
    "        clist[i]=1450+i*20 #the speed of sound ranges from 1450m/s to 1550m/s in natural environments\n",
    "    return clist"
   ]
  },
  {
   "cell_type": "code",
   "execution_count": 3260,
   "metadata": {
    "collapsed": true
   },
   "outputs": [],
   "source": [
    "def initialise_tlist (nt): # number of data points in t dimension\n",
    "    tlist =[float(0.05*x+100) for x in range(nt)] #we dont want to start at 0 to avoid division be zero error messages\n",
    "    return tlist"
   ]
  },
  {
   "cell_type": "code",
   "execution_count": 3261,
   "metadata": {
    "collapsed": true
   },
   "outputs": [],
   "source": [
    "def knbr (c,w):\n",
    "    #Wavenumber for specified c (sound speed profile)\n",
    "    #and frequency omega\n",
    "    k = w/c \n",
    "    return k"
   ]
  },
  {
   "cell_type": "code",
   "execution_count": 3262,
   "metadata": {
    "collapsed": false
   },
   "outputs": [],
   "source": [
    "def _lambda(k, D) :\n",
    "    #finds value for which the depth problem solves boundary conditions\n",
    "    L=math.sqrt(k*k-(math.pi*math.pi)/(4*D*D)) #L stands for lambda\n",
    "    L=abs(L) #want the positive root\n",
    "    return L"
   ]
  },
  {
   "cell_type": "code",
   "execution_count": 3263,
   "metadata": {
    "collapsed": true
   },
   "outputs": [],
   "source": [
    "def find_freq(nbr):\n",
    "    w_0=2*math.pi*115 #fundamental frequency\n",
    "    A=80.0\n",
    "    w=w_0+int((nbr+1)/2)*A*(-1)**(nbr+1)\n",
    "    return w"
   ]
  },
  {
   "cell_type": "code",
   "execution_count": 3264,
   "metadata": {
    "collapsed": false
   },
   "outputs": [],
   "source": [
    "def dtwave_eq (x, t , c) : #find value time derivative at this x=(r,z) \n",
    "    r=x[0]\n",
    "    z=x[1]\n",
    "    D=750 #prescribed depth of water bottom interface\n",
    "    pi=math.pi#makes me life easier\n",
    "    size_quad=1 #2k+1 size of the frequency sample\n",
    "    S=0 #initialising sum\n",
    "    for i in range(2*size_quad+1):\n",
    "        w=find_freq(i) #fundamental frequency\n",
    "        k=knbr(c, w) #find wave number in specified environment for specified frequency\n",
    "        L=_lambda(k, D)\n",
    "        M = -pi/4 - r*L\n",
    "        cM=math.cos(M) \n",
    "        sM=math.sin(M)\n",
    "        y=-1*w*math.sqrt(2/(pi*r*L))*(cM+sM*1j)*math.sin(pi*z/(2*D))*math.cos(t*w)\n",
    "        y=y.real\n",
    "        S+=y\n",
    "    #it was tidious to write but wait until I explain how long it took me to derive\n",
    "    return S"
   ]
  },
  {
   "cell_type": "code",
   "execution_count": 3265,
   "metadata": {
    "collapsed": false
   },
   "outputs": [],
   "source": [
    "def computedt (c, tlist, x):\n",
    "    nt=len(tlist)\n",
    "    fprime =[0 for i in range(nt)] #initialise\n",
    "    for i in range (nt) : #for each point in time\n",
    "        fprime[i]=dtwave_eq (x, tlist[i], c)#computes the value of the time derivative\n",
    "    return fprime"
   ]
  },
  {
   "cell_type": "code",
   "execution_count": 3266,
   "metadata": {
    "collapsed": true
   },
   "outputs": [],
   "source": [
    "def evaluate (x): #evaluates the sign of the complex number\n",
    "    if x >0:\n",
    "        sign =1\n",
    "    else :\n",
    "        sign=-1\n",
    "    return sign"
   ]
  },
  {
   "cell_type": "code",
   "execution_count": 3267,
   "metadata": {
    "collapsed": false
   },
   "outputs": [],
   "source": [
    "def lookforpeak (dtlist, tlist): #for this location in space look for extrema wrt to time\n",
    "    peaklist =[] #initialise\n",
    "    nt=len(tlist)\n",
    "    for i in range (nt-1): #for each point in time\n",
    "        tell=evaluate(dtlist[i]) #evaluate sign at first t-value\n",
    "        sign = evaluate (dtlist[i+1]) #find sign next point\n",
    "        if tell == -1*sign : #derivative switch orientation\n",
    "            nt= (i+i+1)/2\n",
    "            peaklist.append(nt)\n",
    "    return peaklist"
   ]
  },
  {
   "cell_type": "code",
   "execution_count": 3268,
   "metadata": {
    "collapsed": true
   },
   "outputs": [],
   "source": [
    "def find_peaks (c, tlist, x) :\n",
    "    dtlist=computedt(c, tlist, x) #compute values of time derivative at all points in time and position\n",
    "    peaklist = lookforpeak(dtlist, tlist)\n",
    "    return peaklist"
   ]
  },
  {
   "cell_type": "code",
   "execution_count": 3269,
   "metadata": {
    "collapsed": true
   },
   "outputs": [],
   "source": [
    "def compute_library (clist, tlist, nt, x):#for each sound speed (environment specific)\n",
    "    cpeaks =[]#initialise list of peaks for each sound speed\n",
    "    cn =len(clist)\n",
    "    for i in range (cn):\n",
    "        c=clist[i] \n",
    "        peaklist=find_peaks (c, tlist, x)#compute modal time arrival\n",
    "        cpeaks.append(peaklist) #append\n",
    "    return cpeaks"
   ]
  },
  {
   "cell_type": "code",
   "execution_count": 3270,
   "metadata": {
    "collapsed": false
   },
   "outputs": [],
   "source": [
    "def random_pick(clist, cpeaks) :\n",
    "    cn=len(clist)#makes my life easier\n",
    "    k=rn.randint(0,cn-1) #pick a number between 0 and 20\n",
    "    l=len(cpeaks[k]) # look how many peaks for that value of c\n",
    "    if l == 0: # if its empty\n",
    "        while l==0: #enter a while loop\n",
    "            k=rn.randint(0,cn-1) #we dont want it so choose another one\n",
    "            l=len(cpeaks[k]) #hopefully no infinite loop\n",
    "    return k"
   ]
  },
  {
   "cell_type": "code",
   "execution_count": 3271,
   "metadata": {
    "collapsed": true
   },
   "outputs": [],
   "source": [
    "def findscore (ref, l, data, nd):\n",
    "    score=0\n",
    "    if l==0: #if the list in empty #fail safe\n",
    "        score=+5000 #not a match\n",
    "    else :\n",
    "        score=0 #do nothing #inefficient\n",
    "    for i in range(nd): #compare each arrival time\n",
    "        element=data[i]\n",
    "        for j in range(l):\n",
    "            if ref[j] == element :\n",
    "                score+=1\n",
    "            else :\n",
    "                score=score #do nothing #inneficient\n",
    "    score=nd-score#compute how close\n",
    "    return score"
   ]
  },
  {
   "cell_type": "code",
   "execution_count": 3272,
   "metadata": {
    "collapsed": true
   },
   "outputs": [],
   "source": [
    "def matchfield (library, data):\n",
    "    nd=len(data)#makes my life easier  \n",
    "    nl=len(library)\n",
    "    scores=np.array([]) #initialising\n",
    "    for i in range (nl):\n",
    "        score = findscore (library[i],len(library[i]), data, len(data) )\n",
    "        scores=np.append(scores, score)#record score  \n",
    "    match=scores.argmin()#find closest match\n",
    "    return match"
   ]
  },
  {
   "cell_type": "code",
   "execution_count": 3273,
   "metadata": {
    "collapsed": false
   },
   "outputs": [],
   "source": [
    "def run_process (sample, clist, cpeaks, tlist, x):\n",
    "    S=0.0\n",
    "    for i in range(sample):\n",
    "        #now we simulate experimental data by picking a c value at random and modifying by epsilon\n",
    "        k=random_pick(clist, cpeaks)\n",
    "        modk=clist[k]+eps\n",
    "        _data = find_peaks (modk, tlist, x)#we simulate what we would receive from a sonar \n",
    "        #in experimental conditions\n",
    "        c_data=matchfield(cpeaks, _data)#now we try to match our experimental data \n",
    "        #with one of the reference environment that we just computed\n",
    "        y=-1.0 #initialising\n",
    "        if c_data == k : # if the c value in environment we experimented in\n",
    "            #is the c value the score function estimates to be the closest match to the experimental environment\n",
    "            y=1.0 #we win \n",
    "        else :\n",
    "            y=0.0 #else we lose \n",
    "        S+=y\n",
    "    performance = float(S/sample*100) #average score\n",
    "    print performance"
   ]
  },
  {
   "cell_type": "code",
   "execution_count": 3274,
   "metadata": {
    "collapsed": false
   },
   "outputs": [
    {
     "name": "stdout",
     "output_type": "stream",
     "text": [
      "81.0\n"
     ]
    }
   ],
   "source": [
    "cn=5 # size of reference library\n",
    "eps = float(0.002) # experimental modification\n",
    "nt=100 # number a time & local variables are considered\n",
    "x= [15000, 400] #position of hydrophone\n",
    "sample=100 #number of times we repeat the experiment\n",
    "\n",
    "clist= initialise_clist(cn) #initialise sound speed values\n",
    "tlist = initialise_tlist(nt) #initialise time array\n",
    "cpeaks = compute_library (clist, tlist, nt, x)#computes the reference sound speed profiles\n",
    "\n",
    "run_process(sample, clist, cpeaks, tlist, x)\n",
    "#models experimental data and runs match field process + perfomance analysis"
   ]
  },
  {
   "cell_type": "code",
   "execution_count": null,
   "metadata": {
    "collapsed": true
   },
   "outputs": [],
   "source": []
  },
  {
   "cell_type": "code",
   "execution_count": null,
   "metadata": {
    "collapsed": true
   },
   "outputs": [],
   "source": []
  }
 ],
 "metadata": {
  "kernelspec": {
   "display_name": "Python 2",
   "language": "python",
   "name": "python2"
  },
  "language_info": {
   "codemirror_mode": {
    "name": "ipython",
    "version": 2
   },
   "file_extension": ".py",
   "mimetype": "text/x-python",
   "name": "python",
   "nbconvert_exporter": "python",
   "pygments_lexer": "ipython2",
   "version": "2.7.13"
  }
 },
 "nbformat": 4,
 "nbformat_minor": 2
}
